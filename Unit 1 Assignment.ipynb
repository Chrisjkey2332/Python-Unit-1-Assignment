{
 "cells": [
  {
   "cell_type": "code",
   "execution_count": 3,
   "metadata": {},
   "outputs": [
    {
     "name": "stdout",
     "output_type": "stream",
     "text": [
      "[1, 8, 27, 64, 125, 216, 343, 512, 729, 1000]\n"
     ]
    }
   ],
   "source": [
    "# declare lists\n",
    "cubes = []\n",
    "\n",
    "# start and end numbers\n",
    "start = 1 \n",
    "end = 10 \n",
    "\n",
    "# run a loop from start to end+1 \n",
    "for count in range (start, end+1) :\n",
    "    cubes.append (count**3)\n",
    "\n",
    "# print the lists\n",
    "print (cubes)\n"
   ]
  },
  {
   "cell_type": "code",
   "execution_count": null,
   "metadata": {},
   "outputs": [],
   "source": [
    "def is_prime(n):\n",
    "    status = True\n",
    "    if n < 2:\n",
    "        status = False\n",
    "    else:\n",
    "        for i in range(2,n):\n",
    "            if n % i == 0:\n",
    "                status = False\n",
    "    return status\n",
    "\n",
    "for n in range(1,101):\n",
    "    if is_prime(n):\n",
    "        if n==97:\n",
    "            print (n)\n",
    "        else:\n",
    "            print (n,\",\",)"
   ]
  },
  {
   "cell_type": "code",
   "execution_count": 7,
   "metadata": {},
   "outputs": [
    {
     "name": "stdout",
     "output_type": "stream",
     "text": [
      "senior\n"
     ]
    }
   ],
   "source": [
    "#Ask for user input\n",
    "age = input(\"What is your age: \")\n",
    "\n",
    "#perform calculations and print\n",
    "if age < 18:\n",
    "    print(\"kids\")\n",
    "elif age >65:\n",
    "    print(\"senior\")\n",
    "else:\n",
    "    print(\"adult\")\n"
   ]
  }
 ],
 "metadata": {
  "kernelspec": {
   "display_name": "Python 3.9.13 64-bit (microsoft store)",
   "language": "python",
   "name": "python3"
  },
  "language_info": {
   "codemirror_mode": {
    "name": "ipython",
    "version": 3
   },
   "file_extension": ".py",
   "mimetype": "text/x-python",
   "name": "python",
   "nbconvert_exporter": "python",
   "pygments_lexer": "ipython3",
   "version": "3.9.13"
  },
  "orig_nbformat": 4,
  "vscode": {
   "interpreter": {
    "hash": "61483be7dd8d3a1f964d7e1e788036c352fe440903e5fe5a6930904c77fb0d92"
   }
  }
 },
 "nbformat": 4,
 "nbformat_minor": 2
}
